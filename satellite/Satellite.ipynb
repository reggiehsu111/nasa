{
 "cells": [
  {
   "cell_type": "code",
   "execution_count": 1,
   "metadata": {},
   "outputs": [],
   "source": [
    "from netCDF4 import Dataset as nc\n",
    "import numpy as np\n",
    "import json\n",
    "import pickle\n",
    "from random import randrange"
   ]
  },
  {
   "cell_type": "code",
   "execution_count": 2,
   "metadata": {},
   "outputs": [],
   "source": [
    "file = open(\"MLS-Aura_L2GP-SO2_v04-23-c01_2019d290.json\", \"r\")\n",
    "data = json.load(file)"
   ]
  },
  {
   "cell_type": "code",
   "execution_count": 3,
   "metadata": {},
   "outputs": [],
   "source": [
    "score = [sum(data[\"datasets\"][\"8105f364-f27a-11e9-9f36-f06e0bc20c3a\"][\"value\"][i]) for i in range(3495)]\n",
    "maxi = np.max(score)\n",
    "score = [x-maxi for x in score]\n",
    "mini = np.min(score) - 1e-08\n",
    "SO2_score = [int((x/mini)*6) for x in score]"
   ]
  },
  {
   "cell_type": "code",
   "execution_count": 4,
   "metadata": {},
   "outputs": [
    {
     "data": {
      "text/plain": [
       "Counter({1: 1713, 2: 1442, 3: 136, 0: 188, 4: 13, 5: 3})"
      ]
     },
     "execution_count": 4,
     "metadata": {},
     "output_type": "execute_result"
    }
   ],
   "source": [
    "from collections import Counter\n",
    "Counter(SO2_score)"
   ]
  },
  {
   "cell_type": "code",
   "execution_count": 5,
   "metadata": {},
   "outputs": [],
   "source": [
    "file2 = open(\"MLS-Aura_L2GP-CO_v04-23-c01_2019d290.json\", \"r\")\n",
    "data2 = json.load(file2)"
   ]
  },
  {
   "cell_type": "code",
   "execution_count": 6,
   "metadata": {},
   "outputs": [],
   "source": [
    "score = [sum(data2[\"datasets\"][\"919d3501-f27a-11e9-8b04-f06e0bc20c3a\"][\"value\"][i]) for i in range(3495)]\n",
    "mini = np.min(score)\n",
    "score = [x-mini for x in score]\n",
    "maxi = np.max(score) + 7e-5\n",
    "CO_score = [int((x/maxi)*6) for x in score]"
   ]
  },
  {
   "cell_type": "code",
   "execution_count": 7,
   "metadata": {},
   "outputs": [
    {
     "data": {
      "text/plain": [
       "Counter({3: 492, 2: 1317, 1: 1507, 0: 177, 4: 2})"
      ]
     },
     "execution_count": 7,
     "metadata": {},
     "output_type": "execute_result"
    }
   ],
   "source": [
    "from collections import Counter\n",
    "Counter(CO_score)"
   ]
  },
  {
   "cell_type": "code",
   "execution_count": 8,
   "metadata": {},
   "outputs": [],
   "source": [
    "file3 = open(\"MLS-Aura_L2GP-O3_v04-23-c01_2019d290.json\", \"r\")\n",
    "data3 = json.load(file3)"
   ]
  },
  {
   "cell_type": "code",
   "execution_count": 9,
   "metadata": {},
   "outputs": [],
   "source": [
    "score = [sum(data3[\"datasets\"][\"72e61487-f27a-11e9-ac9a-f06e0bc20c3a\"][\"value\"][i]) for i in range(3495)]\n",
    "mini = np.min(score)\n",
    "score = [x-mini for x in score]\n",
    "maxi = np.max(score) + 9e-5\n",
    "O3_score = [int((x/maxi)*6) for x in score]"
   ]
  },
  {
   "cell_type": "code",
   "execution_count": 10,
   "metadata": {},
   "outputs": [
    {
     "data": {
      "text/plain": [
       "Counter({2: 2186, 1: 719, 0: 409, 3: 181})"
      ]
     },
     "execution_count": 10,
     "metadata": {},
     "output_type": "execute_result"
    }
   ],
   "source": [
    "from collections import Counter\n",
    "Counter(O3_score)"
   ]
  },
  {
   "cell_type": "code",
   "execution_count": 11,
   "metadata": {},
   "outputs": [],
   "source": [
    "final_AQI = [max(SO2_score[i], O3_score[i], CO_score[i]) for i in range(3495)]"
   ]
  },
  {
   "cell_type": "code",
   "execution_count": 12,
   "metadata": {},
   "outputs": [
    {
     "data": {
      "text/plain": [
       "Counter({3: 638, 2: 2275, 1: 557, 4: 15, 0: 7, 5: 3})"
      ]
     },
     "execution_count": 12,
     "metadata": {},
     "output_type": "execute_result"
    }
   ],
   "source": [
    "from collections import Counter\n",
    "Counter(final_AQI)"
   ]
  },
  {
   "cell_type": "code",
   "execution_count": 13,
   "metadata": {},
   "outputs": [],
   "source": [
    "all_feature = list()"
   ]
  },
  {
   "cell_type": "code",
   "execution_count": 14,
   "metadata": {},
   "outputs": [],
   "source": [
    "lat = data[\"datasets\"][\"81064195-f27a-11e9-b118-f06e0bc20c3a\"][\"value\"]\n",
    "lon = data[\"datasets\"][\"8106914a-f27a-11e9-9850-f06e0bc20c3a\"][\"value\"]"
   ]
  },
  {
   "cell_type": "code",
   "execution_count": 15,
   "metadata": {},
   "outputs": [],
   "source": [
    "count = 0\n",
    "for x in zip(lon, lat):\n",
    "    temp = {}\n",
    "    temp['longitude'] = x[0]\n",
    "    temp['latitude'] = x[1]\n",
    "    temp['AQI'] = final_AQI[count]\n",
    "    count += 1\n",
    "    all_feature.append(temp)"
   ]
  },
  {
   "cell_type": "code",
   "execution_count": 16,
   "metadata": {},
   "outputs": [],
   "source": [
    "pickle.dump(all_feature, open('loc_cal.pkl', 'wb'))"
   ]
  }
 ],
 "metadata": {
  "kernelspec": {
   "display_name": "Python 3",
   "language": "python",
   "name": "python3"
  },
  "language_info": {
   "codemirror_mode": {
    "name": "ipython",
    "version": 3
   },
   "file_extension": ".py",
   "mimetype": "text/x-python",
   "name": "python",
   "nbconvert_exporter": "python",
   "pygments_lexer": "ipython3",
   "version": "3.7.3"
  }
 },
 "nbformat": 4,
 "nbformat_minor": 2
}
