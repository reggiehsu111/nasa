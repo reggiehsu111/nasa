{
 "cells": [
  {
   "cell_type": "code",
   "execution_count": 1,
   "metadata": {},
   "outputs": [],
   "source": [
    "import sys \n",
    "sys.path.append('..')\n",
    "import config\n",
    "import pickle"
   ]
  },
  {
   "cell_type": "code",
   "execution_count": 2,
   "metadata": {},
   "outputs": [],
   "source": [
    "with open(config.model_filename, \"rb\") as f:\n",
    "    model = pickle.load(f)"
   ]
  },
  {
   "cell_type": "code",
   "execution_count": 7,
   "metadata": {},
   "outputs": [
    {
     "name": "stdout",
     "output_type": "stream",
     "text": [
      "0.14 0.20833333333333334 0.15217391304347827 0.23255813953488372 0.21428571428571427 0.17073170731707318 \n",
      "0.18 0.08333333333333333 0.17391304347826086 0.2558139534883721 0.11904761904761904 0.2682926829268293 \n",
      "0.16 0.16666666666666666 0.1956521739130435 0.16279069767441862 0.14285714285714285 0.1951219512195122 \n",
      "0.06 0.16666666666666666 0.1956521739130435 0.18604651162790697 0.21428571428571427 0.14634146341463414 \n",
      "0.24 0.14583333333333334 0.13043478260869565 0.11627906976744186 0.14285714285714285 0.14634146341463414 \n",
      "0.18 0.14583333333333334 0.08695652173913043 0.16279069767441862 0.19047619047619047 0.14634146341463414 \n"
     ]
    }
   ],
   "source": []
  },
  {
   "cell_type": "code",
   "execution_count": null,
   "metadata": {},
   "outputs": [],
   "source": []
  }
 ],
 "metadata": {
  "kernelspec": {
   "display_name": "Python 3",
   "language": "python",
   "name": "python3"
  },
  "language_info": {
   "codemirror_mode": {
    "name": "ipython",
    "version": 3
   },
   "file_extension": ".py",
   "mimetype": "text/x-python",
   "name": "python",
   "nbconvert_exporter": "python",
   "pygments_lexer": "ipython3",
   "version": "3.7.3"
  }
 },
 "nbformat": 4,
 "nbformat_minor": 2
}
